{
 "cells": [
  {
   "cell_type": "code",
   "execution_count": 9,
   "metadata": {},
   "outputs": [],
   "source": [
    "import numpy as np\n",
    "import pandas as pd\n",
    "from sklearn import neighbors, metrics\n",
    "from sklearn.model_selection import train_test_split\n",
    "from sklearn.preprocessing import LabelEncoder"
   ]
  },
  {
   "cell_type": "code",
   "execution_count": 10,
   "metadata": {},
   "outputs": [
    {
     "name": "stdout",
     "output_type": "stream",
     "text": [
      "  buying  maint doors persons lug_boot safety  class\n",
      "0  vhigh  vhigh     2       2    small    low  unacc\n",
      "1  vhigh  vhigh     2       2    small    med  unacc\n",
      "2  vhigh  vhigh     2       2    small   high  unacc\n",
      "3  vhigh  vhigh     2       2      med    low  unacc\n",
      "4  vhigh  vhigh     2       2      med    med  unacc\n"
     ]
    }
   ],
   "source": [
    "#importing the data\n",
    "data = pd.read_csv('!car.data')\n",
    "print(data.head())"
   ]
  },
  {
   "cell_type": "code",
   "execution_count": 11,
   "metadata": {},
   "outputs": [
    {
     "name": "stdout",
     "output_type": "stream",
     "text": [
      "[['vhigh' 'vhigh' 'low']\n",
      " ['vhigh' 'vhigh' 'med']\n",
      " ['vhigh' 'vhigh' 'high']\n",
      " ...\n",
      " ['low' 'low' 'low']\n",
      " ['low' 'low' 'med']\n",
      " ['low' 'low' 'high']]       class\n",
      "0     unacc\n",
      "1     unacc\n",
      "2     unacc\n",
      "3     unacc\n",
      "4     unacc\n",
      "...     ...\n",
      "1723   good\n",
      "1724  vgood\n",
      "1725  unacc\n",
      "1726   good\n",
      "1727  vgood\n",
      "\n",
      "[1728 rows x 1 columns]\n"
     ]
    }
   ],
   "source": [
    "#at the top, there are the names of the attributes\n",
    "#now, lets create features and labels\n",
    "\n",
    "X = data[['buying', 'maint', 'safety']].values\n",
    "#don't forget the second bracket, and don't forget the dot values\n",
    "y = data[['class']]\n",
    "\n",
    "#now lets check to see if it worked (it does)\n",
    "print(X, y)"
   ]
  },
  {
   "cell_type": "code",
   "execution_count": 12,
   "metadata": {},
   "outputs": [
    {
     "name": "stdout",
     "output_type": "stream",
     "text": [
      "[[3 3 1]\n",
      " [3 3 2]\n",
      " [3 3 0]\n",
      " ...\n",
      " [1 1 1]\n",
      " [1 1 2]\n",
      " [1 1 0]]\n"
     ]
    }
   ],
   "source": [
    "#these are names, so we can't fetch these into a machine learning algorithm, so we have to convert these into numbers\n",
    "\n",
    "#conversion of X: converting the data using a label encoder\n",
    "Le = LabelEncoder()\n",
    "# X[0] references the first instance in the dataset, and reads how many there are in that row, which should be 3\n",
    "# X[:, i] references everything in a column i by taking all rows but keeping the column i\n",
    "for i in range(len(X[0])):\n",
    "    X[:, i] = Le.fit_transform(X[:,i])\n",
    "    \n",
    "print(X)\n",
    "\n",
    "    \n"
   ]
  },
  {
   "cell_type": "code",
   "execution_count": 13,
   "metadata": {},
   "outputs": [
    {
     "name": "stdout",
     "output_type": "stream",
     "text": [
      "[[0]\n",
      " [0]\n",
      " [0]\n",
      " ...\n",
      " [0]\n",
      " [2]\n",
      " [3]]\n"
     ]
    },
    {
     "name": "stderr",
     "output_type": "stream",
     "text": [
      "<ipython-input-13-aff645dcdcaa>:11: SettingWithCopyWarning: \n",
      "A value is trying to be set on a copy of a slice from a DataFrame.\n",
      "Try using .loc[row_indexer,col_indexer] = value instead\n",
      "\n",
      "See the caveats in the documentation: https://pandas.pydata.org/pandas-docs/stable/user_guide/indexing.html#returning-a-view-versus-a-copy\n",
      "  y['class'] = y['class'].map(label_mapping)\n"
     ]
    }
   ],
   "source": [
    "#conversion of y\n",
    "\n",
    "#creating a dictionary to tell us which labels will be which\n",
    "label_mapping = {\n",
    "    'unacc':0,\n",
    "    'acc':1,\n",
    "    'good':2,\n",
    "    'vgood':3\n",
    "}\n",
    "\n",
    "y['class'] = y['class'].map(label_mapping)\n",
    "\n",
    "y = np.array(y)\n",
    "print(y)"
   ]
  },
  {
   "cell_type": "code",
   "execution_count": 14,
   "metadata": {},
   "outputs": [],
   "source": [
    "# creating our model\n",
    "\n",
    "knn = neighbors.KNeighborsClassifier(n_neighbors=25, weights='uniform')"
   ]
  },
  {
   "cell_type": "code",
   "execution_count": 17,
   "metadata": {},
   "outputs": [],
   "source": [
    "#now, we need to seperate our data into two categories\n",
    "\n",
    "X_train, X_test, y_train, y_test = train_test_split(X, y, test_size = 0.2)"
   ]
  },
  {
   "cell_type": "code",
   "execution_count": 18,
   "metadata": {},
   "outputs": [
    {
     "name": "stdout",
     "output_type": "stream",
     "text": [
      "[[1 0 0]\n",
      " [1 2 2]\n",
      " [1 1 2]\n",
      " ...\n",
      " [1 3 1]\n",
      " [1 2 0]\n",
      " [2 3 2]]\n"
     ]
    }
   ],
   "source": [
    "print(X_test)"
   ]
  },
  {
   "cell_type": "code",
   "execution_count": 19,
   "metadata": {},
   "outputs": [],
   "source": [
    "#now, we can train our model"
   ]
  },
  {
   "cell_type": "code",
   "execution_count": 22,
   "metadata": {},
   "outputs": [
    {
     "name": "stderr",
     "output_type": "stream",
     "text": [
      "<ipython-input-22-144fd69ce732>:1: DataConversionWarning: A column-vector y was passed when a 1d array was expected. Please change the shape of y to (n_samples, ), for example using ravel().\n",
      "  knn.fit(X_train, y_train)\n"
     ]
    },
    {
     "data": {
      "text/plain": [
       "KNeighborsClassifier(n_neighbors=25)"
      ]
     },
     "execution_count": 22,
     "metadata": {},
     "output_type": "execute_result"
    }
   ],
   "source": [
    "knn.fit(X_train, y_train)"
   ]
  },
  {
   "cell_type": "code",
   "execution_count": 24,
   "metadata": {},
   "outputs": [
    {
     "name": "stdout",
     "output_type": "stream",
     "text": [
      "predictions [3 2 2 0 0 0 0 0 0 0 0 0 0 3 0 0 0 0 0 1 0 0 0 1 0 0 0 0 0 0 0 1 0 0 0 0 1\n",
      " 3 1 0 0 1 0 3 0 0 1 0 1 0 0 2 0 0 1 1 0 2 1 1 0 0 0 0 0 1 1 0 0 1 0 0 1 0\n",
      " 1 0 0 0 0 1 0 0 1 0 0 0 0 1 0 0 0 2 0 0 0 3 0 0 1 0 0 0 0 2 3 0 0 0 0 0 1\n",
      " 1 0 1 0 0 0 0 0 3 0 0 1 1 1 0 0 0 3 0 0 1 3 1 0 0 0 2 0 1 0 2 0 0 0 0 0 1\n",
      " 0 2 0 0 1 0 0 0 1 0 0 2 0 0 0 0 0 0 1 0 0 2 0 1 2 1 0 1 2 0 0 3 0 0 1 0 0\n",
      " 1 3 0 0 0 1 0 1 0 0 0 3 0 1 0 0 1 0 0 1 0 0 0 2 1 1 0 1 1 3 0 0 1 0 1 1 1\n",
      " 0 0 2 0 1 0 0 0 3 0 0 3 0 0 1 0 1 0 0 0 0 0 0 0 0 0 1 0 1 0 0 0 0 0 0 0 2\n",
      " 0 1 0 1 0 0 0 0 0 0 0 0 3 0 0 0 0 1 1 0 1 1 3 0 0 1 0 0 0 0 0 0 1 0 0 2 0\n",
      " 0 1 0 1 0 0 1 0 0 0 0 0 1 0 0 0 0 0 1 0 0 0 0 1 1 1 0 1 1 0 0 0 0 0 0 0 0\n",
      " 0 0 1 0 0 1 0 0 0 0 0 0 0]\n",
      "accuracy 0.7283236994219653\n"
     ]
    }
   ],
   "source": [
    "#now, we can look at the predictions\n",
    "\n",
    "pred_y = knn.predict(X_test)\n",
    "\n",
    "#now, we can measure accuracy\n",
    "\n",
    "accuracy = metrics.accuracy_score(y_test, pred_y)\n",
    "print(\"predictions\", pred_y)\n",
    "print(\"accuracy\", accuracy)"
   ]
  },
  {
   "cell_type": "code",
   "execution_count": 37,
   "metadata": {},
   "outputs": [
    {
     "name": "stdout",
     "output_type": "stream",
     "text": [
      "actual values  [1]\n",
      "predicted value:  1\n"
     ]
    }
   ],
   "source": [
    "a = 1477\n",
    "print(\"actual values \", y[a])\n",
    "print(\"predicted value: \", knn.predict(X)[a])"
   ]
  },
  {
   "cell_type": "code",
   "execution_count": null,
   "metadata": {},
   "outputs": [],
   "source": []
  },
  {
   "cell_type": "code",
   "execution_count": null,
   "metadata": {},
   "outputs": [],
   "source": []
  }
 ],
 "metadata": {
  "kernelspec": {
   "display_name": "Python 3",
   "language": "python",
   "name": "python3"
  },
  "language_info": {
   "codemirror_mode": {
    "name": "ipython",
    "version": 3
   },
   "file_extension": ".py",
   "mimetype": "text/x-python",
   "name": "python",
   "nbconvert_exporter": "python",
   "pygments_lexer": "ipython3",
   "version": "3.8.5"
  }
 },
 "nbformat": 4,
 "nbformat_minor": 4
}
