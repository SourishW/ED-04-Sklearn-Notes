{
 "cells": [
  {
   "cell_type": "code",
   "execution_count": null,
   "metadata": {},
   "outputs": [],
   "source": [
    "#to save a model\n",
    "\n",
    "from sklearn.externals import joblib\n",
    "\n",
    "#train the model\n",
    "\n",
    "filename = 'model.sav'\n",
    "#then the file appropriate will be created\n",
    "joblib.dump(model, filename)\n",
    "\n",
    "#Next time you want to use it\n",
    "\n",
    "#opening the model\n",
    "clf = joblib.load(filename)\n"
   ]
  }
 ],
 "metadata": {
  "kernelspec": {
   "display_name": "Python 3",
   "language": "python",
   "name": "python3"
  },
  "language_info": {
   "codemirror_mode": {
    "name": "ipython",
    "version": 3
   },
   "file_extension": ".py",
   "mimetype": "text/x-python",
   "name": "python",
   "nbconvert_exporter": "python",
   "pygments_lexer": "ipython3",
   "version": "3.8.5"
  }
 },
 "nbformat": 4,
 "nbformat_minor": 4
}
