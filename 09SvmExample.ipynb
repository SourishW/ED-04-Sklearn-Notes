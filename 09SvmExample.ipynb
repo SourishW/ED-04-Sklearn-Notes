{
 "cells": [
  {
   "cell_type": "code",
   "execution_count": 54,
   "metadata": {},
   "outputs": [],
   "source": [
    "# we will use the iris dataset in order to practice, so lets grab the previous data from the train_test_split example"
   ]
  },
  {
   "cell_type": "code",
   "execution_count": 71,
   "metadata": {},
   "outputs": [],
   "source": [
    "from sklearn import datasets\n",
    "\n",
    "import numpy as np\n",
    "iris = datasets.load_iris()\n",
    "X = iris.data\n",
    "y = iris.target\n",
    "\n",
    "from sklearn.model_selection import train_test_split\n",
    "X_train, X_test, y_train, y_test = train_test_split(X, y, test_size = 0.2)"
   ]
  },
  {
   "cell_type": "code",
   "execution_count": 72,
   "metadata": {},
   "outputs": [],
   "source": [
    "# now, we have to import the necessary library svm\n",
    "from sklearn import svm\n",
    "\n",
    "# defining the classes we need\n",
    "classes = ['Iris Setosa','Iris Versicolor', 'Iris Virginica']"
   ]
  },
  {
   "cell_type": "code",
   "execution_count": 73,
   "metadata": {},
   "outputs": [
    {
     "data": {
      "text/plain": [
       "SVC()"
      ]
     },
     "execution_count": 73,
     "metadata": {},
     "output_type": "execute_result"
    }
   ],
   "source": [
    "# creating and training the model\n",
    "\n",
    "model = svm.SVC()\n",
    "model.fit(X_train, y_train)"
   ]
  },
  {
   "cell_type": "code",
   "execution_count": 74,
   "metadata": {},
   "outputs": [],
   "source": [
    "# now we have to determine the accuracy of the model\n",
    "from sklearn.metrics import accuracy_score, confusion_matrix, classification_report"
   ]
  },
  {
   "cell_type": "code",
   "execution_count": 75,
   "metadata": {},
   "outputs": [
    {
     "name": "stdout",
     "output_type": "stream",
     "text": [
      "              precision    recall  f1-score   support\n",
      "\n",
      "           0       1.00      1.00      1.00         9\n",
      "           1       0.90      1.00      0.95         9\n",
      "           2       1.00      0.92      0.96        12\n",
      "\n",
      "    accuracy                           0.97        30\n",
      "   macro avg       0.97      0.97      0.97        30\n",
      "weighted avg       0.97      0.97      0.97        30\n",
      "\n"
     ]
    }
   ],
   "source": [
    "y_pred = model.predict(X_test)\n",
    "# always testing data first, then prediction data\n",
    "print(classification_report(y_test, y_pred))"
   ]
  },
  {
   "cell_type": "code",
   "execution_count": 76,
   "metadata": {},
   "outputs": [
    {
     "name": "stdout",
     "output_type": "stream",
     "text": [
      "0.9666666666666667\n",
      "predictions [1 0 2 1 1 0 2 1 2 0 0 0 1 1 1 2 2 2 2 2 0 1 0 2 1 2 1 0 0 2]\n",
      "actual      [1 0 2 1 1 0 2 1 2 0 0 0 1 2 1 2 2 2 2 2 0 1 0 2 1 2 1 0 0 2]\n"
     ]
    }
   ],
   "source": [
    "print(accuracy_score(y_test, y_pred))\n",
    "\n",
    "# now lets compare the values\n",
    "print(\"predictions\", y_pred)\n",
    "print(\"actual     \", y_test)"
   ]
  },
  {
   "cell_type": "code",
   "execution_count": 77,
   "metadata": {},
   "outputs": [
    {
     "name": "stdout",
     "output_type": "stream",
     "text": [
      "Iris Versicolor\n",
      "Iris Setosa\n",
      "Iris Virginica\n",
      "Iris Versicolor\n",
      "Iris Versicolor\n",
      "Iris Setosa\n",
      "Iris Virginica\n",
      "Iris Versicolor\n",
      "Iris Virginica\n",
      "Iris Setosa\n",
      "Iris Setosa\n",
      "Iris Setosa\n",
      "Iris Versicolor\n",
      "Iris Versicolor\n",
      "Iris Versicolor\n",
      "Iris Virginica\n",
      "Iris Virginica\n",
      "Iris Virginica\n",
      "Iris Virginica\n",
      "Iris Virginica\n",
      "Iris Setosa\n",
      "Iris Versicolor\n",
      "Iris Setosa\n",
      "Iris Virginica\n",
      "Iris Versicolor\n",
      "Iris Virginica\n",
      "Iris Versicolor\n",
      "Iris Setosa\n",
      "Iris Setosa\n",
      "Iris Virginica\n"
     ]
    }
   ],
   "source": [
    "for i in range(len(y_pred)):\n",
    "    print(classes[y_pred[i]])\n",
    "    "
   ]
  },
  {
   "cell_type": "code",
   "execution_count": 78,
   "metadata": {},
   "outputs": [
    {
     "name": "stdout",
     "output_type": "stream",
     "text": [
      "1\n"
     ]
    }
   ],
   "source": []
  },
  {
   "cell_type": "code",
   "execution_count": null,
   "metadata": {},
   "outputs": [],
   "source": []
  },
  {
   "cell_type": "code",
   "execution_count": null,
   "metadata": {},
   "outputs": [],
   "source": []
  }
 ],
 "metadata": {
  "kernelspec": {
   "display_name": "Python 3",
   "language": "python",
   "name": "python3"
  },
  "language_info": {
   "codemirror_mode": {
    "name": "ipython",
    "version": 3
   },
   "file_extension": ".py",
   "mimetype": "text/x-python",
   "name": "python",
   "nbconvert_exporter": "python",
   "pygments_lexer": "ipython3",
   "version": "3.8.5"
  }
 },
 "nbformat": 4,
 "nbformat_minor": 4
}
